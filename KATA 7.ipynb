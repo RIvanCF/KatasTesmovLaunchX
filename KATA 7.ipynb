{
 "cells": [
  {
   "cell_type": "markdown",
   "metadata": {},
   "source": [
    "# Ejercicio 1: Creación de un blucle \"while\"\n",
    "### Uso de ciclos while en Python \n",
    "Crear una aplicacion que solicita a un usuario ingresar una lista de planetas\n",
    "1. Agregar dos variables, una para la entrada del usuario y otra para la lista de planetas"
   ]
  },
  {
   "cell_type": "code",
   "execution_count": 11,
   "metadata": {},
   "outputs": [],
   "source": [
    "ingresar_planeta = ''\n",
    "planetas = []"
   ]
  },
  {
   "cell_type": "markdown",
   "metadata": {},
   "source": [
    "2. Crear un ciclo while. El ciclo se ejecutara mientras la variable \"ingresar_planeta\" no sea igual a la palabra 'done'\n",
    "3. Dentro del ciclo, comprobarás si la variable \"ingresar_planeta\" contiene un valor, que debería ser el nombre de un planeta. Esta es una forma rápida de ver si el usuario ha introducido un valor. Si lo han hecho, tu código agregará (append) ese valor a la variable planets.\n",
    "4. Finalmente, usarás input para solicitar al usuario que ingrese un nuevo nombre de planeta o que escriba done si ha terminado de ingresar nombres de planeta. Almacenará el valor de input en la variable \"ingresar_planeta\".\n",
    "\n",
    "## Ejercicio 2: Creación de un ciclo 'for'\n",
    "1. Crear un ciclo para una lista\n",
    "2. Mostrar la lista de los planetas"
   ]
  },
  {
   "cell_type": "code",
   "execution_count": 1,
   "metadata": {},
   "outputs": [
    {
     "name": "stdout",
     "output_type": "stream",
     "text": [
      "Marte\n",
      "Saturno \n"
     ]
    }
   ],
   "source": [
    "# Declarar dos variables\n",
    "ingresar_planeta = ''\n",
    "planetas = []\n",
    "while ingresar_planeta.lower() != 'done': #Comparar que la variable no sea igual a done, de lo contrario el programa finaliza\n",
    "    if ingresar_planeta:\n",
    "        planetas.append(ingresar_planeta) #Los planetas escritos en en programa seran almacenados aqui, siempre y cuando no sean equivalentes a 'done'\n",
    "    ingresar_planeta = input('Ingrese un planeta del sistema solar: ') #Solicita escribir un planeta\n",
    "for planeta in planetas:\n",
    "    print(planeta) #Los planetas ingresados previamente se imprimiran despues de ingresar la palabra done\n"
   ]
  }
 ],
 "metadata": {
  "interpreter": {
   "hash": "ce0814a168fce90f4d2f37d83b4e46ab914291cf2b7ce1f5caf5a4b41b234f17"
  },
  "kernelspec": {
   "display_name": "Python 3.10.2 64-bit",
   "language": "python",
   "name": "python3"
  },
  "language_info": {
   "codemirror_mode": {
    "name": "ipython",
    "version": 3
   },
   "file_extension": ".py",
   "mimetype": "text/x-python",
   "name": "python",
   "nbconvert_exporter": "python",
   "pygments_lexer": "ipython3",
   "version": "3.10.2"
  },
  "orig_nbformat": 4
 },
 "nbformat": 4,
 "nbformat_minor": 2
}
