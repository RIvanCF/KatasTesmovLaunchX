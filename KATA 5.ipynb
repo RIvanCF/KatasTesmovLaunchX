{
 "cells": [
  {
   "cell_type": "markdown",
   "metadata": {},
   "source": [
    "# Ejercicio 1 - Utiliazar operadores aritméticos\n",
    "Exploremos cómo podemos crear un programa que pueda calcular la distancia entre dos planetas. Comenzaremos usando dos distancias de planetas: Tierra (149.597.870 km) y Júpiter (778.547.200 km).\n",
    "### Realizar la operación\n",
    "Con los valores obtenidos, es el momento de añadir el código para realizar la operación. Restarás el primer planeta del segundo para determinar la distancia en kilómetros. A continuación, puedes convertir la distancia del kilómetro en millas multiplicándola por 0.621."
   ]
  },
  {
   "cell_type": "code",
   "execution_count": 3,
   "metadata": {},
   "outputs": [
    {
     "name": "stdout",
     "output_type": "stream",
     "text": [
      "La distancia entre estos cuerpos celeste es equivalente a:  628949330 km\n",
      "Expresado en millas es equivalente a:  390577533.93 millas\n"
     ]
    }
   ],
   "source": [
    "distance_earth = 149597870 #Tierra\n",
    "distance_jupyter = 778547200 #Jupiter\n",
    "distance_km = distance_earth - distance_jupyter\n",
    "print(\"La distancia entre estos cuerpos celeste es equivalente a: \",abs(distance_km),\"km\")\n",
    "distance_millas = distance_km * 0.621\n",
    "print(\"Expresado en millas es equivalente a: \", abs(distance_millas),\"millas\")"
   ]
  },
  {
   "cell_type": "markdown",
   "metadata": {},
   "source": [
    "Redondear el valor decimal"
   ]
  },
  {
   "cell_type": "code",
   "execution_count": 8,
   "metadata": {},
   "outputs": [
    {
     "name": "stdout",
     "output_type": "stream",
     "text": [
      "Redondeando  390577533.93 millas es igual a 390577534 millas\n"
     ]
    }
   ],
   "source": [
    "print(\"Redondeando \",abs(distance_millas),\"millas es igual a\",abs(round(distance_millas)),\"millas\")"
   ]
  },
  {
   "cell_type": "markdown",
   "metadata": {},
   "source": [
    "# Ejercicio 2: convierte cadenas en números y usa valores absolutos\n",
    "### Crear una aplicacion para trabajar con números y entrada de usuario"
   ]
  },
  {
   "cell_type": "markdown",
   "metadata": {},
   "source": [
    "Para crear nuestra aplicación, queremos leer la distancia del sol para dos planetas, y luego mostrar la distancia entre los planetas. Haremos esto usando input para leer los valores, int para convertir a entero y luego abs para convertir el resultado en su valor absoluto."
   ]
  },
  {
   "cell_type": "code",
   "execution_count": 15,
   "metadata": {},
   "outputs": [
    {
     "name": "stdout",
     "output_type": "stream",
     "text": [
      "Distancia del primer planeta:  778600000  Km\n",
      "Distancia del segundo planeta:  227900000  Km\n",
      "La distancia entre estos planetas es de  550700000  Km\n",
      "Valor en millas es igual a  341984700.0  millas\n"
     ]
    }
   ],
   "source": [
    "#Guardar entrada\n",
    "variable1 = input('Introducir la distancia al sol del primer planeta: ')\n",
    "variable2 = input('Introducir la distancia al sol del segundo planeta: ')\n",
    "#Convertir la cadena a valores enteros\n",
    "first_planet = int(variable1)\n",
    "second_planet = int(variable2)\n",
    "print(\"Distancia del primer planeta: \",abs(first_planet),\" Km\")\n",
    "print(\"Distancia del segundo planeta: \",abs(second_planet), \" Km\")\n",
    "#Ejecutar la resta aritmética\n",
    "distancia_entre_planetas_km = abs(first_planet) - abs(second_planet)\n",
    "print(\"La distancia entre estos planetas es de \",abs(distancia_entre_planetas_km),\" Km\") \n",
    "#Convertir la distancia de Km a millas\n",
    "distancia_entre_planetas_millas = distancia_entre_planetas_km * 0.621\n",
    "print(\"Valor en millas es igual a \",abs(distancia_entre_planetas_millas),\" millas\")"
   ]
  }
 ],
 "metadata": {
  "interpreter": {
   "hash": "ce0814a168fce90f4d2f37d83b4e46ab914291cf2b7ce1f5caf5a4b41b234f17"
  },
  "kernelspec": {
   "display_name": "Python 3.10.2 64-bit",
   "language": "python",
   "name": "python3"
  },
  "language_info": {
   "codemirror_mode": {
    "name": "ipython",
    "version": 3
   },
   "file_extension": ".py",
   "mimetype": "text/x-python",
   "name": "python",
   "nbconvert_exporter": "python",
   "pygments_lexer": "ipython3",
   "version": "3.10.2"
  },
  "orig_nbformat": 4
 },
 "nbformat": 4,
 "nbformat_minor": 2
}
