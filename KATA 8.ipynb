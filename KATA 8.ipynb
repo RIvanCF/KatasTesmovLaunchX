{
 "cells": [
  {
   "cell_type": "code",
   "execution_count": null,
   "metadata": {},
   "outputs": [],
   "source": []
  },
  {
   "cell_type": "markdown",
   "metadata": {},
   "source": [
    "# Ejercicio 1: Creación de diccionarios de Python\n",
    "### Ejercicio: Crear y modificar un diccionario de Python\n",
    "Crear un diccionario que almacene información sobre el planeta Marte.\n",
    "1. Agregar el código para crear un nuevo diccionario \n",
    "2. Recuperar valores\n",
    "3. Actualizar las  claves o crer otras nuevas\n",
    "4. Imprimir el nombre con los datos establecidos previamente "
   ]
  },
  {
   "cell_type": "code",
   "execution_count": 7,
   "metadata": {},
   "outputs": [
    {
     "name": "stdout",
     "output_type": "stream",
     "text": [
      "Marte\n",
      "2 lunas\n",
      "Marte\n",
      "2 lunas\n",
      "Marte tiene 2 lunas\n",
      "Marte -> circunferencia polar: 6752 km\n",
      "Marte -> circunferencia ecuatorial: 6792 km\n"
     ]
    }
   ],
   "source": [
    "#Crear diccionario con información anteriormente proporcionada\n",
    "planeta = {\n",
    "    'nombre': 'Marte',\n",
    "    'lunas': 2\n",
    "}\n",
    "# Recuperar valores con el metodo get o corchetes\n",
    "# Metodo get\n",
    "print(planeta.get('nombre')) \n",
    "print(planeta.get('lunas'), \"lunas\")\n",
    "# Corchetes [ ]\n",
    "print(planeta['nombre'])\n",
    "print(planeta['lunas'], \"lunas\")\n",
    "# Otra alternativa \n",
    "print(f'{planeta[\"nombre\"]} tiene {planeta[\"lunas\"]} lunas')\n",
    "# Agregar nuevos valores a nuestro diccionario\n",
    "planeta['diametros'] = {\n",
    "    'polar' : 6752,\n",
    "    'ecuatorial' : 6792\n",
    "}\n",
    "#Imprimir \n",
    "print(f'{planeta[\"nombre\"]} -> circunferencia polar: {planeta[\"diametros\"][\"polar\"]} km')\n",
    "print(f'{planeta[\"nombre\"]} -> circunferencia ecuatorial: {planeta[\"diametros\"][\"ecuatorial\"]} km')"
   ]
  },
  {
   "cell_type": "markdown",
   "metadata": {},
   "source": [
    "# Ejercicio 2: Programación dinamica con diccionarios\n",
    "### Calculo de valores, en este caso, calcular el numero total de lunas en el sistema solar como el numero promedio de lunas que tiene un planeta"
   ]
  },
  {
   "cell_type": "code",
   "execution_count": 19,
   "metadata": {},
   "outputs": [
    {
     "name": "stdout",
     "output_type": "stream",
     "text": [
      "En este programa estan almacenados 12 planetas, cada uno con su respectiva cantidad de lunas\n",
      "En nuestro sistema solar existe un total de 214  lunas\n",
      "Esto quiere decir que en promedio cada planeta contiene 17.833333333333332 lunas\n",
      "Redondeando 18 lunas\n",
      "Modulo 10\n"
     ]
    }
   ],
   "source": [
    "# Añade el código para determinar el número de lunas.\n",
    "lunas_planetas = {\n",
    "    'Mercurio': 0,\n",
    "    'Venus': 0,\n",
    "    'Tierra': 1,\n",
    "    'Marte': 2,\n",
    "    'Jupiter': 79,\n",
    "    'Saturno': 82,\n",
    "    'Urano': 27,\n",
    "    'Neptuno': 14,\n",
    "    'Pluton': 5,\n",
    "    'Haumea': 2,\n",
    "    'Makemake': 1,\n",
    "    'Eris': 1\n",
    "}# Obtenemos la lista de las lunas\n",
    "# Almacenamos los resultados \n",
    "lunas = lunas_planetas.values()\n",
    "# Obtenemos el total de planetas\n",
    "# Almacenamos los resultados \n",
    "planetas = len(lunas_planetas.keys())\n",
    "print(\"En este programa estan almacenados\", planetas, \"planetas, cada uno con su respectiva cantidad de lunas\")\n",
    "# Calcula el total de todas las lunas\n",
    "# Almacena su valor \n",
    "lunas_total = 0 # Iniciación\n",
    "for luna in lunas:\n",
    "    lunas_total = lunas_total + luna\n",
    "print(\"En nuestro sistema solar existe un total de\", lunas_total,\" lunas\")\n",
    "# Calcula el promedio dividiendo el total_moons por el número de planetas\n",
    "promedio= lunas_total / planetas\n",
    "# Muestra el promedio\n",
    "print(\"Esto quiere decir que en promedio cada planeta contiene\", promedio,\"lunas\")\n",
    "print(\"Redondeando\", round(promedio),\"lunas\")\n",
    "print(\"Modulo\", lunas_total % planetas)"
   ]
  }
 ],
 "metadata": {
  "interpreter": {
   "hash": "ce0814a168fce90f4d2f37d83b4e46ab914291cf2b7ce1f5caf5a4b41b234f17"
  },
  "kernelspec": {
   "display_name": "Python 3.10.2 64-bit",
   "language": "python",
   "name": "python3"
  },
  "language_info": {
   "codemirror_mode": {
    "name": "ipython",
    "version": 3
   },
   "file_extension": ".py",
   "mimetype": "text/x-python",
   "name": "python",
   "nbconvert_exporter": "python",
   "pygments_lexer": "ipython3",
   "version": "3.10.2"
  },
  "orig_nbformat": 4
 },
 "nbformat": 4,
 "nbformat_minor": 2
}
