{
 "cells": [
  {
   "cell_type": "markdown",
   "metadata": {},
   "source": [
    "# Ejercicio 1: Crear y usar listas de Python\n",
    "### Usar listas para almacenar nombres de planetas\n",
    "1. Crear una variable denominada planetas. Agrega los ocho planetas (sin Pluton) a la lista. A continuacion, muestra el numero de planetas\n",
    "2. Agregar a Pluton a la lista que creaste. Luego muestra el numero de planetas como el ultimo de la lista"
   ]
  },
  {
   "cell_type": "code",
   "execution_count": 3,
   "metadata": {},
   "outputs": [
    {
     "name": "stdout",
     "output_type": "stream",
     "text": [
      "Nuestro sistema solar esta conformado por 8 planetas\n",
      "Pluton antes era reconocido como un planeta. Actualmente es considerado un planetoide\n"
     ]
    }
   ],
   "source": [
    "planetas = ['Mercurio','Venus','Tierra','Marte','Jupiter','Saturno','Urano','Neptuno'] ## Paso 1\n",
    "print('Nuestro sistema solar esta conformado por',len(planetas),'planetas')\n",
    "planetas.append('Pluton') # Paso 2\n",
    "print(planetas[-1], 'antes era reconocido como un planeta. Actualmente es considerado un planetoide')"
   ]
  },
  {
   "cell_type": "markdown",
   "metadata": {},
   "source": [
    "# Ejercicio 2: Trabajando con datos de una lista\n",
    "### Usar slices para recuperar partes de una lista\n",
    "1. Agregar el codigo para crear una lista con los planetas\n",
    "2. Solicitar al usuario el nombre de un planeta\n",
    "3. Encontrar el planeta en la lista\n",
    "4. Mostrar planetas mas cercanos al sol que el que el usuario ingreso\n",
    "5. Mostrar planetas mas alejados del sol que el que el usuario ingreso"
   ]
  },
  {
   "cell_type": "code",
   "execution_count": 1,
   "metadata": {},
   "outputs": [
    {
     "name": "stdout",
     "output_type": "stream",
     "text": [
      "Aqui estan los planetas mas cercanos al sol que Neptuno\n",
      "['Mercurio', 'Venus', 'Tierra', 'Marte', 'Jupiter', 'Saturno', 'Urano']\n",
      "Aqui estan los planetas mas alejados al sol que Neptuno\n",
      "[]\n"
     ]
    }
   ],
   "source": [
    "# Paso 1 Lista de planetas\n",
    "planets = ['Mercurio','Venus','Tierra','Marte','Jupiter','Saturno','Urano','Neptuno']\n",
    "# Paso 2 Solicitar el nombre de un planeta del sistema solar\n",
    "ingresar_planeta = input('Ingrese el nombre de un planeta de nuestro sistema (Empezando con letra mayuscula. Ejm: Mercurio:  ')\n",
    "# Paso 3 Busqueda del planeta en la lista anteriormente creada\n",
    "planeta_busqueda = planets.index(ingresar_planeta)\n",
    "# Paso 4 Mostrar los planetas mas cercanos al sol \n",
    "print('Aqui estan los planetas mas cercanos al sol que ' + ingresar_planeta)\n",
    "print(planets[0:planeta_busqueda])\n",
    "#Paso 5 Mostrar los planetas mas alejados al sol\n",
    "print('Aqui estan los planetas mas alejados al sol que ' + ingresar_planeta)\n",
    "print(planets[planeta_busqueda + 1:])"
   ]
  }
 ],
 "metadata": {
  "interpreter": {
   "hash": "ce0814a168fce90f4d2f37d83b4e46ab914291cf2b7ce1f5caf5a4b41b234f17"
  },
  "kernelspec": {
   "display_name": "Python 3.10.2 64-bit",
   "language": "python",
   "name": "python3"
  },
  "language_info": {
   "codemirror_mode": {
    "name": "ipython",
    "version": 3
   },
   "file_extension": ".py",
   "mimetype": "text/x-python",
   "name": "python",
   "nbconvert_exporter": "python",
   "pygments_lexer": "ipython3",
   "version": "3.10.2"
  },
  "orig_nbformat": 4
 },
 "nbformat": 4,
 "nbformat_minor": 2
}
